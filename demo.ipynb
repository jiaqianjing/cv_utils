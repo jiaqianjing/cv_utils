{
 "cells": [
  {
   "cell_type": "code",
   "execution_count": 1,
   "id": "476bc5b4-5f87-4f8c-8a73-11c48d854a00",
   "metadata": {},
   "outputs": [],
   "source": [
    "import pandas as pd\n"
   ]
  },
  {
   "cell_type": "code",
   "execution_count": 21,
   "id": "cd405ce5-00be-4c12-b89a-48723c87841d",
   "metadata": {},
   "outputs": [],
   "source": [
    "imgs_info = pd.read_csv('./imgs_list.csv', sep=' ', names=['name', 'url'], header=0)"
   ]
  },
  {
   "cell_type": "code",
   "execution_count": 24,
   "id": "af2c26f0-ab64-48de-98e1-7d2226397830",
   "metadata": {},
   "outputs": [
    {
     "data": {
      "text/html": [
       "<div>\n",
       "<style scoped>\n",
       "    .dataframe tbody tr th:only-of-type {\n",
       "        vertical-align: middle;\n",
       "    }\n",
       "\n",
       "    .dataframe tbody tr th {\n",
       "        vertical-align: top;\n",
       "    }\n",
       "\n",
       "    .dataframe thead th {\n",
       "        text-align: right;\n",
       "    }\n",
       "</style>\n",
       "<table border=\"1\" class=\"dataframe\">\n",
       "  <thead>\n",
       "    <tr style=\"text-align: right;\">\n",
       "      <th></th>\n",
       "      <th>name</th>\n",
       "      <th>url</th>\n",
       "    </tr>\n",
       "  </thead>\n",
       "  <tbody>\n",
       "    <tr>\n",
       "      <th>0</th>\n",
       "      <td>apple</td>\n",
       "      <td>https://gimg2.baidu.com/image_search/src=http%...</td>\n",
       "    </tr>\n",
       "    <tr>\n",
       "      <th>1</th>\n",
       "      <td>orange</td>\n",
       "      <td>https://img2.baidu.com/it/u=549299795,22009376...</td>\n",
       "    </tr>\n",
       "    <tr>\n",
       "      <th>2</th>\n",
       "      <td>orange</td>\n",
       "      <td>https://gimg2.baidu.com/image_search/src=http%...</td>\n",
       "    </tr>\n",
       "    <tr>\n",
       "      <th>3</th>\n",
       "      <td>orange</td>\n",
       "      <td>https://gimg2.baidu.com/image_search/src=http%...</td>\n",
       "    </tr>\n",
       "    <tr>\n",
       "      <th>4</th>\n",
       "      <td>banana</td>\n",
       "      <td>https://img1.baidu.com/it/u=133722991,42025369...</td>\n",
       "    </tr>\n",
       "    <tr>\n",
       "      <th>5</th>\n",
       "      <td>banana</td>\n",
       "      <td>https://gimg2.baidu.com/image_search/src=http%...</td>\n",
       "    </tr>\n",
       "    <tr>\n",
       "      <th>6</th>\n",
       "      <td>banana</td>\n",
       "      <td>shttps://gimg2.baidu.com/image_search/src=http...</td>\n",
       "    </tr>\n",
       "  </tbody>\n",
       "</table>\n",
       "</div>"
      ],
      "text/plain": [
       "     name                                                url\n",
       "0   apple  https://gimg2.baidu.com/image_search/src=http%...\n",
       "1  orange  https://img2.baidu.com/it/u=549299795,22009376...\n",
       "2  orange  https://gimg2.baidu.com/image_search/src=http%...\n",
       "3  orange  https://gimg2.baidu.com/image_search/src=http%...\n",
       "4  banana  https://img1.baidu.com/it/u=133722991,42025369...\n",
       "5  banana  https://gimg2.baidu.com/image_search/src=http%...\n",
       "6  banana  shttps://gimg2.baidu.com/image_search/src=http..."
      ]
     },
     "execution_count": 24,
     "metadata": {},
     "output_type": "execute_result"
    }
   ],
   "source": [
    "imgs_info"
   ]
  },
  {
   "cell_type": "code",
   "execution_count": 25,
   "id": "f7bfcca1-c7e1-46fc-9b44-b13b467b746c",
   "metadata": {},
   "outputs": [],
   "source": [
    "temp = imgs_info.groupby('name').url.unique()"
   ]
  },
  {
   "cell_type": "code",
   "execution_count": 31,
   "id": "1d678377-11ac-4509-8c6c-2776971a4cdf",
   "metadata": {},
   "outputs": [
    {
     "name": "stdout",
     "output_type": "stream",
     "text": [
      "apple_0\n",
      "banana_0\n",
      "banana_1\n",
      "banana_2\n",
      "orange_0\n",
      "orange_1\n",
      "orange_2\n"
     ]
    }
   ],
   "source": [
    "for pid, img_urls in zip(temp.index, temp):\n",
    "        for i, img_url in enumerate(img_urls):\n",
    "            new_pid = f'{pid}_{i}'\n",
    "            print(new_pid)"
   ]
  },
  {
   "cell_type": "code",
   "execution_count": null,
   "id": "78ef6306-651d-483e-a880-735783b0bdd2",
   "metadata": {},
   "outputs": [],
   "source": []
  }
 ],
 "metadata": {
  "kernelspec": {
   "display_name": "Python 3 (ipykernel)",
   "language": "python",
   "name": "python3"
  },
  "language_info": {
   "codemirror_mode": {
    "name": "ipython",
    "version": 3
   },
   "file_extension": ".py",
   "mimetype": "text/x-python",
   "name": "python",
   "nbconvert_exporter": "python",
   "pygments_lexer": "ipython3",
   "version": "3.8.5"
  }
 },
 "nbformat": 4,
 "nbformat_minor": 5
}
